{
 "cells": [
  {
   "cell_type": "markdown",
   "metadata": {},
   "source": [
    "# ANLY-590 Assignment 2\n",
    "## Hanlong Peng"
   ]
  },
  {
   "cell_type": "markdown",
   "metadata": {},
   "source": [
    "## 1. Autoencoder"
   ]
  },
  {
   "cell_type": "code",
   "execution_count": 1,
   "metadata": {},
   "outputs": [
    {
     "name": "stderr",
     "output_type": "stream",
     "text": [
      "C:\\anaconda3\\lib\\site-packages\\h5py\\__init__.py:72: UserWarning: h5py is running against HDF5 1.10.2 when it was built against 1.10.3, this may cause problems\n",
      "  '{0}.{1}.{2}'.format(*version.hdf5_built_version_tuple)\n",
      "Using TensorFlow backend.\n"
     ]
    }
   ],
   "source": [
    "from keras.layers import Input, Dense, Conv2D, MaxPooling2D, UpSampling2D\n",
    "from keras.models import Model\n",
    "from keras import backend as K\n",
    "from keras.datasets import fashion_mnist\n",
    "import numpy as np\n",
    "import matplotlib.pyplot as plt"
   ]
  },
  {
   "cell_type": "code",
   "execution_count": 2,
   "metadata": {
    "collapsed": true
   },
   "outputs": [],
   "source": [
    "input_img = Input(shape=(28, 28, 1))\n",
    "\n",
    "x = Conv2D(16, (3, 3), activation='relu', padding='same')(input_img)\n",
    "x = MaxPooling2D((2, 2), padding='same')(x)\n",
    "x = Conv2D(16, (3, 3), activation='relu', padding='same')(x)\n",
    "x = MaxPooling2D((2, 2), padding='same')(x)\n",
    "x = Conv2D(32, (3, 3), activation='relu', padding='same')(x)\n",
    "encoded = MaxPooling2D((2, 2), padding='same')(x)\n",
    "\n",
    "\n",
    "x = Conv2D(32, (3, 3), activation='relu', padding='same')(encoded)\n",
    "x = UpSampling2D((2, 2))(x)\n",
    "x = Conv2D(16, (3, 3), activation='relu', padding='same')(x)\n",
    "x = UpSampling2D((2, 2))(x)\n",
    "x = Conv2D(16, (3, 3), activation='relu')(x)\n",
    "x = UpSampling2D((2, 2))(x)\n",
    "decoded = Conv2D(1, (3, 3), activation='sigmoid', padding='same')(x)\n",
    "\n",
    "autoencoder = Model(input_img, decoded)\n",
    "autoencoder.compile(optimizer='adadelta', loss='binary_crossentropy')"
   ]
  },
  {
   "cell_type": "code",
   "execution_count": 3,
   "metadata": {},
   "outputs": [],
   "source": [
    "(x_train, _), (x_test, _) = fashion_mnist.load_data()\n",
    "\n",
    "x_train = x_train.astype('float32') / 255.\n",
    "x_test = x_test.astype('float32') / 255.\n",
    "x_train = np.reshape(x_train, (len(x_train), 28, 28, 1)) \n",
    "x_test = np.reshape(x_test, (len(x_test), 28, 28, 1))  "
   ]
  },
  {
   "cell_type": "code",
   "execution_count": 4,
   "metadata": {},
   "outputs": [
    {
     "name": "stdout",
     "output_type": "stream",
     "text": [
      "Train on 60000 samples, validate on 10000 samples\n",
      "Epoch 1/50\n",
      "60000/60000 [==============================] - 4s 69us/step - loss: 0.3534 - val_loss: 0.3187\n",
      "Epoch 2/50\n",
      "60000/60000 [==============================] - 3s 54us/step - loss: 0.3079 - val_loss: 0.2996\n",
      "Epoch 3/50\n",
      "60000/60000 [==============================] - 3s 54us/step - loss: 0.2988 - val_loss: 0.3020\n",
      "Epoch 4/50\n",
      "60000/60000 [==============================] - 3s 54us/step - loss: 0.2939 - val_loss: 0.2920\n",
      "Epoch 5/50\n",
      "60000/60000 [==============================] - 3s 54us/step - loss: 0.2908 - val_loss: 0.2926\n",
      "Epoch 6/50\n",
      "60000/60000 [==============================] - 3s 54us/step - loss: 0.2882 - val_loss: 0.2892\n",
      "Epoch 7/50\n",
      "60000/60000 [==============================] - 3s 54us/step - loss: 0.2863 - val_loss: 0.2875\n",
      "Epoch 8/50\n",
      "60000/60000 [==============================] - 3s 54us/step - loss: 0.2848 - val_loss: 0.2878\n",
      "Epoch 9/50\n",
      "60000/60000 [==============================] - 3s 54us/step - loss: 0.2835 - val_loss: 0.2841\n",
      "Epoch 10/50\n",
      "60000/60000 [==============================] - 3s 54us/step - loss: 0.2824 - val_loss: 0.2839\n",
      "Epoch 11/50\n",
      "60000/60000 [==============================] - 3s 54us/step - loss: 0.2814 - val_loss: 0.2831\n",
      "Epoch 12/50\n",
      "60000/60000 [==============================] - 3s 54us/step - loss: 0.2805 - val_loss: 0.2810\n",
      "Epoch 13/50\n",
      "60000/60000 [==============================] - 3s 54us/step - loss: 0.2797 - val_loss: 0.2821\n",
      "Epoch 14/50\n",
      "60000/60000 [==============================] - 3s 54us/step - loss: 0.2789 - val_loss: 0.2807\n",
      "Epoch 15/50\n",
      "60000/60000 [==============================] - 3s 54us/step - loss: 0.2782 - val_loss: 0.2809\n",
      "Epoch 16/50\n",
      "60000/60000 [==============================] - 3s 54us/step - loss: 0.2778 - val_loss: 0.2784\n",
      "Epoch 17/50\n",
      "60000/60000 [==============================] - 3s 55us/step - loss: 0.2771 - val_loss: 0.2786\n",
      "Epoch 18/50\n",
      "60000/60000 [==============================] - 3s 55us/step - loss: 0.2765 - val_loss: 0.2782\n",
      "Epoch 19/50\n",
      "60000/60000 [==============================] - 3s 55us/step - loss: 0.2761 - val_loss: 0.2790\n",
      "Epoch 20/50\n",
      "60000/60000 [==============================] - 3s 54us/step - loss: 0.2757 - val_loss: 0.2767\n",
      "Epoch 21/50\n",
      "60000/60000 [==============================] - 3s 55us/step - loss: 0.2754 - val_loss: 0.2772\n",
      "Epoch 22/50\n",
      "60000/60000 [==============================] - 3s 54us/step - loss: 0.2750 - val_loss: 0.2798\n",
      "Epoch 23/50\n",
      "60000/60000 [==============================] - 3s 55us/step - loss: 0.2749 - val_loss: 0.2773\n",
      "Epoch 24/50\n",
      "60000/60000 [==============================] - 3s 55us/step - loss: 0.2745 - val_loss: 0.2776\n",
      "Epoch 25/50\n",
      "60000/60000 [==============================] - 3s 55us/step - loss: 0.2742 - val_loss: 0.2753\n",
      "Epoch 26/50\n",
      "60000/60000 [==============================] - 3s 55us/step - loss: 0.2740 - val_loss: 0.2772\n",
      "Epoch 27/50\n",
      "60000/60000 [==============================] - 3s 55us/step - loss: 0.2737 - val_loss: 0.2769\n",
      "Epoch 28/50\n",
      "60000/60000 [==============================] - 3s 55us/step - loss: 0.2733 - val_loss: 0.2751\n",
      "Epoch 29/50\n",
      "60000/60000 [==============================] - 3s 55us/step - loss: 0.2731 - val_loss: 0.2764\n",
      "Epoch 30/50\n",
      "60000/60000 [==============================] - 3s 55us/step - loss: 0.2729 - val_loss: 0.2761\n",
      "Epoch 31/50\n",
      "60000/60000 [==============================] - 3s 55us/step - loss: 0.2728 - val_loss: 0.2730\n",
      "Epoch 32/50\n",
      "60000/60000 [==============================] - 3s 55us/step - loss: 0.2726 - val_loss: 0.2755\n",
      "Epoch 33/50\n",
      "60000/60000 [==============================] - 3s 55us/step - loss: 0.2725 - val_loss: 0.2743\n",
      "Epoch 34/50\n",
      "60000/60000 [==============================] - 3s 55us/step - loss: 0.2719 - val_loss: 0.2755\n",
      "Epoch 35/50\n",
      "60000/60000 [==============================] - 3s 55us/step - loss: 0.2719 - val_loss: 0.2751\n",
      "Epoch 36/50\n",
      "60000/60000 [==============================] - 3s 55us/step - loss: 0.2717 - val_loss: 0.2721\n",
      "Epoch 37/50\n",
      "60000/60000 [==============================] - 3s 55us/step - loss: 0.2715 - val_loss: 0.2736\n",
      "Epoch 38/50\n",
      "60000/60000 [==============================] - 3s 55us/step - loss: 0.2714 - val_loss: 0.2748\n",
      "Epoch 39/50\n",
      "60000/60000 [==============================] - 3s 55us/step - loss: 0.2711 - val_loss: 0.2767\n",
      "Epoch 40/50\n",
      "60000/60000 [==============================] - 3s 55us/step - loss: 0.2711 - val_loss: 0.2728\n",
      "Epoch 41/50\n",
      "60000/60000 [==============================] - 3s 55us/step - loss: 0.2710 - val_loss: 0.2741\n",
      "Epoch 42/50\n",
      "60000/60000 [==============================] - 3s 55us/step - loss: 0.2707 - val_loss: 0.2715\n",
      "Epoch 43/50\n",
      "60000/60000 [==============================] - 3s 55us/step - loss: 0.2706 - val_loss: 0.2721\n",
      "Epoch 44/50\n",
      "60000/60000 [==============================] - 3s 55us/step - loss: 0.2705 - val_loss: 0.2729\n",
      "Epoch 45/50\n",
      "60000/60000 [==============================] - 3s 55us/step - loss: 0.2705 - val_loss: 0.2733\n",
      "Epoch 46/50\n",
      "60000/60000 [==============================] - 3s 55us/step - loss: 0.2702 - val_loss: 0.2729\n",
      "Epoch 47/50\n",
      "60000/60000 [==============================] - 3s 56us/step - loss: 0.2701 - val_loss: 0.2719\n",
      "Epoch 48/50\n",
      "60000/60000 [==============================] - 3s 55us/step - loss: 0.2699 - val_loss: 0.2727\n",
      "Epoch 49/50\n",
      "60000/60000 [==============================] - 3s 55us/step - loss: 0.2699 - val_loss: 0.2707\n",
      "Epoch 50/50\n",
      "60000/60000 [==============================] - 3s 55us/step - loss: 0.2699 - val_loss: 0.2716\n"
     ]
    },
    {
     "data": {
      "text/plain": [
       "<keras.callbacks.History at 0x12f9cb11a58>"
      ]
     },
     "execution_count": 4,
     "metadata": {},
     "output_type": "execute_result"
    }
   ],
   "source": [
    "from keras.callbacks import TensorBoard\n",
    "\n",
    "autoencoder.fit(x_train, x_train,\n",
    "                epochs=50,\n",
    "                batch_size=128,\n",
    "                shuffle=True,\n",
    "                validation_data=(x_test, x_test),\n",
    "                callbacks=[TensorBoard(log_dir='/tmp/autoencoder')])"
   ]
  },
  {
   "cell_type": "code",
   "execution_count": 5,
   "metadata": {},
   "outputs": [
    {
     "data": {
      "image/png": "[encoded data removed]",
      "text/plain": [
       "<matplotlib.figure.Figure at 0x13165478cc0>"
      ]
     },
     "metadata": {},
     "output_type": "display_data"
    }
   ],
   "source": [
    "decoded_imgs = autoencoder.predict(x_test)\n",
    "\n",
    "n = 10\n",
    "plt.figure(figsize=(20, 4))\n",
    "for i in range(n):\n",
    "    # display original\n",
    "    ax = plt.subplot(2, n, i+1)\n",
    "    plt.imshow(x_test[i].reshape(28, 28))\n",
    "    plt.gray()\n",
    "    ax.get_xaxis().set_visible(False)\n",
    "    ax.get_yaxis().set_visible(False)\n",
    "\n",
    "    # display reconstruction\n",
    "    ax = plt.subplot(2, n, i + n + 1 )\n",
    "    plt.imshow(decoded_imgs[i].reshape(28, 28))\n",
    "    plt.gray()\n",
    "    ax.get_xaxis().set_visible(False)\n",
    "    ax.get_yaxis().set_visible(False)\n",
    "plt.show()"
   ]
  },
  {
   "cell_type": "markdown",
   "metadata": {},
   "source": [
    "## 2. Image Classification"
   ]
  },
  {
   "cell_type": "markdown",
   "metadata": {},
   "source": [
    "### 2.1 Deep CNN"
   ]
  },
  {
   "cell_type": "code",
   "execution_count": 6,
   "metadata": {
    "collapsed": true
   },
   "outputs": [],
   "source": [
    "import tensorflow as tf\n",
    "(x_train, y_train), (x_test, y_test) = tf.keras.datasets.fashion_mnist.load_data()"
   ]
  },
  {
   "cell_type": "code",
   "execution_count": 7,
   "metadata": {},
   "outputs": [
    {
     "name": "stdout",
     "output_type": "stream",
     "text": [
      "x_train shape: (60000, 28, 28, 1)\n",
      "Number of images in x_train 60000\n",
      "Number of images in x_test 10000\n"
     ]
    }
   ],
   "source": [
    "# Reshaping the array to 4-dims so that it can work with the Keras API\n",
    "x_train = x_train.reshape(x_train.shape[0], 28, 28, 1)\n",
    "x_test = x_test.reshape(x_test.shape[0], 28, 28, 1)\n",
    "input_shape = (28, 28, 1)\n",
    "# Making sure that the values are float so that we can get decimal points after division\n",
    "x_train = x_train.astype('float32')\n",
    "x_test = x_test.astype('float32')\n",
    "# Normalizing the RGB codes by dividing it to the max RGB value.\n",
    "x_train /= 255\n",
    "x_test /= 255\n",
    "print('x_train shape:', x_train.shape)\n",
    "print('Number of images in x_train', x_train.shape[0])\n",
    "print('Number of images in x_test', x_test.shape[0])"
   ]
  },
  {
   "cell_type": "code",
   "execution_count": 8,
   "metadata": {
    "collapsed": true
   },
   "outputs": [],
   "source": [
    "# Importing the required Keras modules containing model and layers\n",
    "from keras.models import Sequential\n",
    "from keras.layers import Dense, Conv2D, Dropout, Flatten, MaxPooling2D\n",
    "# Creating a Sequential Model and adding the layers\n",
    "model = Sequential()\n",
    "#1st Conv layer\n",
    "model.add(Conv2D(28, kernel_size=(3,3), input_shape=input_shape))\n",
    "#1st Pooling layer\n",
    "model.add(MaxPooling2D(pool_size=(2, 2)))\n",
    "#2nd Conv layer\n",
    "model.add(Conv2D(56, kernel_size=(5,5), input_shape=input_shape))\n",
    "#2nd Pooling layer\n",
    "model.add(MaxPooling2D(pool_size=(2, 2)))\n",
    "model.add(Flatten()) # Flattening the 2D arrays for fully connected layers\n",
    "model.add(Dense(128, activation=tf.nn.relu))\n",
    "model.add(Dropout(0.2))\n",
    "model.add(Dense(10,activation=tf.nn.softmax))"
   ]
  },
  {
   "cell_type": "code",
   "execution_count": 9,
   "metadata": {},
   "outputs": [
    {
     "name": "stdout",
     "output_type": "stream",
     "text": [
      "_________________________________________________________________\n",
      "Layer (type)                 Output Shape              Param #   \n",
      "=================================================================\n",
      "conv2d_8 (Conv2D)            (None, 26, 26, 28)        280       \n",
      "_________________________________________________________________\n",
      "max_pooling2d_4 (MaxPooling2 (None, 13, 13, 28)        0         \n",
      "_________________________________________________________________\n",
      "conv2d_9 (Conv2D)            (None, 9, 9, 56)          39256     \n",
      "_________________________________________________________________\n",
      "max_pooling2d_5 (MaxPooling2 (None, 4, 4, 56)          0         \n",
      "_________________________________________________________________\n",
      "flatten_1 (Flatten)          (None, 896)               0         \n",
      "_________________________________________________________________\n",
      "dense_1 (Dense)              (None, 128)               114816    \n",
      "_________________________________________________________________\n",
      "dropout_1 (Dropout)          (None, 128)               0         \n",
      "_________________________________________________________________\n",
      "dense_2 (Dense)              (None, 10)                1290      \n",
      "=================================================================\n",
      "Total params: 155,642\n",
      "Trainable params: 155,642\n",
      "Non-trainable params: 0\n",
      "_________________________________________________________________\n",
      "None\n"
     ]
    }
   ],
   "source": [
    "print(model.summary())"
   ]
  },
  {
   "cell_type": "code",
   "execution_count": 18,
   "metadata": {},
   "outputs": [
    {
     "name": "stdout",
     "output_type": "stream",
     "text": [
      "Epoch 1/20\n",
      "60000/60000 [==============================] - 6s 103us/step - loss: 0.1317 - acc: 0.9509\n",
      "Epoch 2/20\n",
      "60000/60000 [==============================] - 6s 98us/step - loss: 0.1225 - acc: 0.9539\n",
      "Epoch 3/20\n",
      "60000/60000 [==============================] - 6s 97us/step - loss: 0.1149 - acc: 0.9570\n",
      "Epoch 4/20\n",
      "60000/60000 [==============================] - 6s 97us/step - loss: 0.1086 - acc: 0.9591\n",
      "Epoch 5/20\n",
      "60000/60000 [==============================] - 6s 97us/step - loss: 0.1016 - acc: 0.9610\n",
      "Epoch 6/20\n",
      "60000/60000 [==============================] - 6s 97us/step - loss: 0.0971 - acc: 0.9631\n",
      "Epoch 7/20\n",
      "60000/60000 [==============================] - 6s 98us/step - loss: 0.0909 - acc: 0.9653\n",
      "Epoch 8/20\n",
      "60000/60000 [==============================] - 6s 97us/step - loss: 0.0900 - acc: 0.9656\n",
      "Epoch 9/20\n",
      "60000/60000 [==============================] - 6s 97us/step - loss: 0.0867 - acc: 0.9677\n",
      "Epoch 10/20\n",
      "60000/60000 [==============================] - 6s 97us/step - loss: 0.0831 - acc: 0.9683\n",
      "Epoch 11/20\n",
      "60000/60000 [==============================] - 6s 97us/step - loss: 0.0802 - acc: 0.9705\n",
      "Epoch 12/20\n",
      "60000/60000 [==============================] - 6s 97us/step - loss: 0.0759 - acc: 0.9721\n",
      "Epoch 13/20\n",
      "60000/60000 [==============================] - 6s 98us/step - loss: 0.0748 - acc: 0.9718\n",
      "Epoch 14/20\n",
      "60000/60000 [==============================] - 6s 97us/step - loss: 0.0723 - acc: 0.9731\n",
      "Epoch 15/20\n",
      "60000/60000 [==============================] - 6s 97us/step - loss: 0.0684 - acc: 0.9748\n",
      "Epoch 16/20\n",
      "60000/60000 [==============================] - 6s 97us/step - loss: 0.0669 - acc: 0.9756\n",
      "Epoch 17/20\n",
      "60000/60000 [==============================] - 6s 97us/step - loss: 0.0623 - acc: 0.9769\n",
      "Epoch 18/20\n",
      "60000/60000 [==============================] - 6s 97us/step - loss: 0.0648 - acc: 0.9766\n",
      "Epoch 19/20\n",
      "60000/60000 [==============================] - 6s 98us/step - loss: 0.0639 - acc: 0.9768\n",
      "Epoch 20/20\n",
      "60000/60000 [==============================] - 6s 100us/step - loss: 0.0625 - acc: 0.9778\n"
     ]
    },
    {
     "data": {
      "text/plain": [
       "<keras.callbacks.History at 0x131659570b8>"
      ]
     },
     "execution_count": 18,
     "metadata": {},
     "output_type": "execute_result"
    }
   ],
   "source": [
    "model.compile(optimizer='adam', \n",
    "              loss='sparse_categorical_crossentropy', \n",
    "              metrics=['accuracy'])\n",
    "model.fit(x=x_train,y=y_train, epochs=20)"
   ]
  },
  {
   "cell_type": "code",
   "execution_count": 19,
   "metadata": {},
   "outputs": [
    {
     "name": "stdout",
     "output_type": "stream",
     "text": [
      "10000/10000 [==============================] - 0s 47us/step\n"
     ]
    },
    {
     "data": {
      "text/plain": [
       "[0.48407428988553586, 0.90139999999999998]"
      ]
     },
     "execution_count": 19,
     "metadata": {},
     "output_type": "execute_result"
    }
   ],
   "source": [
    "model.evaluate(x_test, y_test)"
   ]
  },
  {
   "cell_type": "markdown",
   "metadata": {},
   "source": [
    "I used 2 convolution layers, 2 pooling layers in the model with different paramters(kernel size and filter size).\n",
    "The accuracy for our model is 0.90139, and it looks pretty good with couple examples we randomly select."
   ]
  },
  {
   "cell_type": "markdown",
   "metadata": {},
   "source": [
    "### 2.2 Transfer Learning"
   ]
  },
  {
   "cell_type": "code",
   "execution_count": 20,
   "metadata": {},
   "outputs": [
    {
     "name": "stdout",
     "output_type": "stream",
     "text": [
      "_________________________________________________________________\n",
      "Layer (type)                 Output Shape              Param #   \n",
      "=================================================================\n",
      "image_input (InputLayer)     (None, 32, 32, 3)         0         \n",
      "_________________________________________________________________\n",
      "vgg16 (Model)                multiple                  14714688  \n",
      "_________________________________________________________________\n",
      "flatten (Flatten)            (None, 512)               0         \n",
      "_________________________________________________________________\n",
      "fc1 (Dense)                  (None, 256)               131328    \n",
      "_________________________________________________________________\n",
      "predictions (Dense)          (None, 10)                2570      \n",
      "=================================================================\n",
      "Total params: 14,848,586\n",
      "Trainable params: 133,898\n",
      "Non-trainable params: 14,714,688\n",
      "_________________________________________________________________\n"
     ]
    }
   ],
   "source": [
    "import sys\n",
    "import numpy as np\n",
    "import cv2\n",
    "import sklearn.metrics as sklm\n",
    "\n",
    "from keras.applications.vgg16 import VGG16\n",
    "from keras.preprocessing import image\n",
    "from keras.applications.vgg16 import preprocess_input\n",
    "from keras.layers import Input, Flatten, Dense\n",
    "from keras.models import Model, load_model\n",
    "from keras.datasets import mnist\n",
    "\n",
    "from keras import backend as K\n",
    "img_dim_ordering = 'tf'\n",
    "K.set_image_dim_ordering(img_dim_ordering)\n",
    "\n",
    "# the model\n",
    "def pretrained_model(img_shape, num_classes):\n",
    "    model_vgg16_conv = VGG16(weights='imagenet', include_top=False)\n",
    "    # Make vgg16 model layers as non trainable\n",
    "    for layer in model_vgg16_conv.layers:\n",
    "        layer.trainable = False\n",
    "\n",
    "    #Create your own input format\n",
    "    keras_input = Input(shape=img_shape, name = 'image_input')\n",
    "    \n",
    "    #Use the generated model \n",
    "    output_vgg16_conv = model_vgg16_conv(keras_input)\n",
    "    \n",
    "    #Add the fully-connected layers \n",
    "    x = Flatten(name='flatten')(output_vgg16_conv)\n",
    "    x = Dense(256, activation='relu', name='fc1')(x)\n",
    "    x = Dense(10, activation='softmax', name='predictions')(x)\n",
    "    \n",
    "    #Create your own model \n",
    "    pretrained_model = Model(inputs=keras_input, outputs=x)\n",
    "    pretrained_model.compile(loss='sparse_categorical_crossentropy', optimizer='adam', metrics=['accuracy'])\n",
    "    \n",
    "    return pretrained_model\n",
    "\n",
    "# loading the data\n",
    "(x_train, y_train), (x_test, y_test) = fashion_mnist.load_data()\n",
    "\n",
    "# converting it to RGB\n",
    "x_train = [cv2.cvtColor(cv2.resize(i, (32,32)), cv2.COLOR_GRAY2BGR) for i in x_train]\n",
    "x_train = np.concatenate([arr[np.newaxis] for arr in x_train]).astype('float32')\n",
    "\n",
    "x_test = [cv2.cvtColor(cv2.resize(i, (32,32)), cv2.COLOR_GRAY2BGR) for i in x_test]\n",
    "x_test = np.concatenate([arr[np.newaxis] for arr in x_test]).astype('float32')\n",
    "\n",
    "# training the model\n",
    "model = pretrained_model(x_train.shape[1:], len(set(y_train)))\n",
    "model.summary()"
   ]
  },
  {
   "cell_type": "code",
   "execution_count": 21,
   "metadata": {},
   "outputs": [
    {
     "name": "stdout",
     "output_type": "stream",
     "text": [
      "Epoch 1/20\n",
      "60000/60000 [==============================] - 17s 290us/step - loss: 0.9408 - acc: 0.7929\n",
      "Epoch 2/20\n",
      "60000/60000 [==============================] - 17s 285us/step - loss: 0.4288 - acc: 0.8451\n",
      "Epoch 3/20\n",
      "60000/60000 [==============================] - 17s 286us/step - loss: 0.3903 - acc: 0.8578\n",
      "Epoch 4/20\n",
      "60000/60000 [==============================] - 17s 288us/step - loss: 0.3717 - acc: 0.8641\n",
      "Epoch 5/20\n",
      "60000/60000 [==============================] - 17s 289us/step - loss: 0.3449 - acc: 0.8724\n",
      "Epoch 6/20\n",
      "60000/60000 [==============================] - 18s 304us/step - loss: 0.3244 - acc: 0.8800\n",
      "Epoch 7/20\n",
      "60000/60000 [==============================] - 18s 301us/step - loss: 0.3071 - acc: 0.8863\n",
      "Epoch 8/20\n",
      "60000/60000 [==============================] - 18s 300us/step - loss: 0.2938 - acc: 0.8924\n",
      "Epoch 9/20\n",
      "60000/60000 [==============================] - 18s 300us/step - loss: 0.2759 - acc: 0.8964\n",
      "Epoch 10/20\n",
      "60000/60000 [==============================] - 18s 297us/step - loss: 0.2663 - acc: 0.9010\n",
      "Epoch 11/20\n",
      "60000/60000 [==============================] - 18s 296us/step - loss: 0.2538 - acc: 0.9054\n",
      "Epoch 12/20\n",
      "60000/60000 [==============================] - 18s 295us/step - loss: 0.2450 - acc: 0.9084\n",
      "Epoch 13/20\n",
      "60000/60000 [==============================] - 18s 298us/step - loss: 0.2338 - acc: 0.9133\n",
      "Epoch 14/20\n",
      "60000/60000 [==============================] - 18s 299us/step - loss: 0.2281 - acc: 0.9166\n",
      "Epoch 15/20\n",
      "60000/60000 [==============================] - 18s 298us/step - loss: 0.2178 - acc: 0.9197\n",
      "Epoch 16/20\n",
      "60000/60000 [==============================] - 18s 293us/step - loss: 0.2141 - acc: 0.9223\n",
      "Epoch 17/20\n",
      "60000/60000 [==============================] - 18s 294us/step - loss: 0.2097 - acc: 0.9220\n",
      "Epoch 18/20\n",
      "60000/60000 [==============================] - 18s 294us/step - loss: 0.1956 - acc: 0.9271\n",
      "Epoch 19/20\n",
      "60000/60000 [==============================] - 18s 292us/step - loss: 0.1935 - acc: 0.9290\n",
      "Epoch 20/20\n",
      "60000/60000 [==============================] - 18s 294us/step - loss: 0.1865 - acc: 0.9305\n"
     ]
    },
    {
     "data": {
      "text/plain": [
       "<keras.callbacks.History at 0x12fb261e198>"
      ]
     },
     "execution_count": 21,
     "metadata": {},
     "output_type": "execute_result"
    }
   ],
   "source": [
    "model.fit(x=x_train,y=y_train, epochs=20)"
   ]
  },
  {
   "cell_type": "code",
   "execution_count": 22,
   "metadata": {},
   "outputs": [
    {
     "name": "stdout",
     "output_type": "stream",
     "text": [
      "10000/10000 [==============================] - 3s 275us/step\n"
     ]
    },
    {
     "data": {
      "text/plain": [
       "[0.70882165284156795, 0.8448]"
      ]
     },
     "execution_count": 22,
     "metadata": {},
     "output_type": "execute_result"
    }
   ],
   "source": [
    "model.evaluate(x_test, y_test)"
   ]
  },
  {
   "cell_type": "markdown",
   "metadata": {},
   "source": [
    "Since the least dimension for vgg is 32 by 32, we have to convert the shape from 28 by 28 to 32 by 32. The accuracy doesn't change much in this case, but if we take the default dimension of vgg, which is 224 by 224, I think the accuracy would drop significantly due to noise caused by upsampling. \n",
    "Another interesting fact is that when we convert mnist to RGB, the pictures are different from the first part. This means that the red, green and blue channels are all the same and is the MNIST grayscale counterpart."
   ]
  },
  {
   "cell_type": "markdown",
   "metadata": {},
   "source": [
    "## 3. Text Classification"
   ]
  },
  {
   "cell_type": "code",
   "execution_count": 23,
   "metadata": {
    "collapsed": true
   },
   "outputs": [],
   "source": [
    "from keras.preprocessing import sequence\n",
    "from keras.layers import Dense, SimpleRNN, LSTM, Embedding, Dropout, Bidirectional, Activation, Flatten,GlobalMaxPooling1D\n",
    "from keras.models import Sequential\n",
    "import requests\n",
    "from sklearn.model_selection import train_test_split\n",
    "from keras.optimizers import RMSprop\n",
    "from keras.preprocessing.text import Tokenizer\n",
    "from keras.layers.convolutional import Conv1D, MaxPooling1D\n",
    "from keras.utils.np_utils import to_categorical"
   ]
  },
  {
   "cell_type": "code",
   "execution_count": 24,
   "metadata": {
    "collapsed": true
   },
   "outputs": [],
   "source": [
    "#load and preprocess the data\n",
    "malicious = requests.get('https://s3.amazonaws.com/anly-590/url-classification/malicious-urls.txt').text.split('\\n')\n",
    "benign = requests.get('https://s3.amazonaws.com/anly-590/url-classification/benign-urls.txt').text.split('\\n')\n",
    "x = malicious + benign\n",
    "y = [0 for _ in range(len(benign))]+[1 for _ in range(len(malicious))]\n",
    "\n",
    "x_train,x_test,y_train,y_test = train_test_split(x,y,test_size=0.1)\n",
    "\n",
    "max_words = 1000\n",
    "max_len = 150\n",
    "tok = Tokenizer(num_words=max_words)\n",
    "tok.fit_on_texts(x_train)\n",
    "sequences = tok.texts_to_sequences(x_train)\n",
    "sequences_matrix = sequence.pad_sequences(sequences,maxlen=max_len)\n",
    "test_sequences = tok.texts_to_sequences(x_test)\n",
    "test_sequences_matrix = sequence.pad_sequences(test_sequences,maxlen=max_len)"
   ]
  },
  {
   "cell_type": "markdown",
   "metadata": {},
   "source": [
    "### 3.1 RNN"
   ]
  },
  {
   "cell_type": "code",
   "execution_count": 25,
   "metadata": {
    "collapsed": true
   },
   "outputs": [],
   "source": [
    "rnn_model = Sequential()\n",
    "rnn_model.add(Embedding(1000, 64))\n",
    "rnn_model.add(SimpleRNN(32))\n",
    "rnn_model.add(Dense(1, activation='sigmoid'))"
   ]
  },
  {
   "cell_type": "code",
   "execution_count": 26,
   "metadata": {
    "collapsed": true
   },
   "outputs": [],
   "source": [
    "rnn_model.compile(optimizer=\"rmsprop\", loss=\"binary_crossentropy\", metrics=[\"acc\"])"
   ]
  },
  {
   "cell_type": "code",
   "execution_count": 27,
   "metadata": {},
   "outputs": [
    {
     "name": "stdout",
     "output_type": "stream",
     "text": [
      "Epoch 1/10\n",
      "60618/60618 [==============================] - 9s 147us/step - loss: 0.0517 - acc: 0.9900\n",
      "Epoch 2/10\n",
      "60618/60618 [==============================] - 9s 143us/step - loss: 0.0167 - acc: 0.9947\n",
      "Epoch 3/10\n",
      "60618/60618 [==============================] - 9s 143us/step - loss: 0.0161 - acc: 0.9948\n",
      "Epoch 4/10\n",
      "60618/60618 [==============================] - 9s 143us/step - loss: 0.0158 - acc: 0.9948\n",
      "Epoch 5/10\n",
      "60618/60618 [==============================] - 9s 142us/step - loss: 0.0158 - acc: 0.9948\n",
      "Epoch 6/10\n",
      "60618/60618 [==============================] - 9s 142us/step - loss: 0.0157 - acc: 0.9949\n",
      "Epoch 7/10\n",
      "60618/60618 [==============================] - 9s 144us/step - loss: 0.0156 - acc: 0.9948\n",
      "Epoch 8/10\n",
      "60618/60618 [==============================] - 9s 144us/step - loss: 0.0155 - acc: 0.9949\n",
      "Epoch 9/10\n",
      "60618/60618 [==============================] - 9s 142us/step - loss: 0.0155 - acc: 0.9949\n",
      "Epoch 10/10\n",
      "60618/60618 [==============================] - 9s 144us/step - loss: 0.0154 - acc: 0.9950\n"
     ]
    },
    {
     "data": {
      "text/plain": [
       "<keras.callbacks.History at 0x12fb364a278>"
      ]
     },
     "execution_count": 27,
     "metadata": {},
     "output_type": "execute_result"
    }
   ],
   "source": [
    "rnn_model.fit(sequences_matrix, y_train, epochs=10, batch_size=256)"
   ]
  },
  {
   "cell_type": "code",
   "execution_count": 28,
   "metadata": {},
   "outputs": [
    {
     "name": "stdout",
     "output_type": "stream",
     "text": [
      "6736/6736 [==============================] - 2s 280us/step\n"
     ]
    },
    {
     "data": {
      "text/plain": [
       "[0.016357106451453107, 0.99480403800475059]"
      ]
     },
     "execution_count": 28,
     "metadata": {},
     "output_type": "execute_result"
    }
   ],
   "source": [
    "rnn_model.evaluate(test_sequences_matrix,y_test)"
   ]
  },
  {
   "cell_type": "markdown",
   "metadata": {},
   "source": [
    "### 3.2 CNN"
   ]
  },
  {
   "cell_type": "code",
   "execution_count": 29,
   "metadata": {},
   "outputs": [
    {
     "name": "stdout",
     "output_type": "stream",
     "text": [
      "_________________________________________________________________\n",
      "Layer (type)                 Output Shape              Param #   \n",
      "=================================================================\n",
      "embedding_2 (Embedding)      (None, None, 64)          64000     \n",
      "_________________________________________________________________\n",
      "conv1d_1 (Conv1D)            (None, None, 64)          20544     \n",
      "_________________________________________________________________\n",
      "global_max_pooling1d_1 (Glob (None, 64)                0         \n",
      "_________________________________________________________________\n",
      "dropout_2 (Dropout)          (None, 64)                0         \n",
      "_________________________________________________________________\n",
      "dense_4 (Dense)              (None, 64)                4160      \n",
      "_________________________________________________________________\n",
      "dense_5 (Dense)              (None, 2)                 130       \n",
      "=================================================================\n",
      "Total params: 88,834\n",
      "Trainable params: 88,834\n",
      "Non-trainable params: 0\n",
      "_________________________________________________________________\n"
     ]
    }
   ],
   "source": [
    "y_train_cnn = to_categorical(y_train, num_classes = 2)\n",
    "y_test_cnn = to_categorical(y_test, num_classes = 2)\n",
    "\n",
    "  \n",
    "cnn_model = Sequential()\n",
    "cnn_model.add(Embedding(max_words, 64))\n",
    "cnn_model.add(Conv1D(64,5,activation='relu'))\n",
    "cnn_model.add(GlobalMaxPooling1D())\n",
    "cnn_model.add(Dropout(0.5))\n",
    "cnn_model.add(Dense(64,activation='relu'))\n",
    "cnn_model.add(Dense(2,activation='sigmoid'))\n",
    "cnn_model.summary()"
   ]
  },
  {
   "cell_type": "code",
   "execution_count": 30,
   "metadata": {},
   "outputs": [
    {
     "name": "stdout",
     "output_type": "stream",
     "text": [
      "Epoch 1/10\n",
      "60618/60618 [==============================] - 2s 33us/step - loss: 0.0957 - acc: 0.9835\n",
      "Epoch 2/10\n",
      "60618/60618 [==============================] - 2s 26us/step - loss: 0.0176 - acc: 0.9943\n",
      "Epoch 3/10\n",
      "60618/60618 [==============================] - 2s 25us/step - loss: 0.0162 - acc: 0.9944\n",
      "Epoch 4/10\n",
      "60618/60618 [==============================] - 2s 25us/step - loss: 0.0156 - acc: 0.9947\n",
      "Epoch 5/10\n",
      "60618/60618 [==============================] - 2s 25us/step - loss: 0.0154 - acc: 0.9948\n",
      "Epoch 6/10\n",
      "60618/60618 [==============================] - 2s 26us/step - loss: 0.0154 - acc: 0.9948\n",
      "Epoch 7/10\n",
      "60618/60618 [==============================] - 2s 26us/step - loss: 0.0151 - acc: 0.9948\n",
      "Epoch 8/10\n",
      "60618/60618 [==============================] - 2s 25us/step - loss: 0.0150 - acc: 0.9949\n",
      "Epoch 9/10\n",
      "60618/60618 [==============================] - 2s 25us/step - loss: 0.0149 - acc: 0.9949\n",
      "Epoch 10/10\n",
      "60618/60618 [==============================] - 2s 25us/step - loss: 0.0149 - acc: 0.9949\n"
     ]
    },
    {
     "data": {
      "text/plain": [
       "<keras.callbacks.History at 0x13191be7c88>"
      ]
     },
     "execution_count": 30,
     "metadata": {},
     "output_type": "execute_result"
    }
   ],
   "source": [
    "cnn_model.compile(loss='binary_crossentropy',optimizer='adam',metrics=['acc'])\n",
    "\n",
    "cnn_model.fit(sequences_matrix, y_train_cnn, batch_size=256, epochs=10)"
   ]
  },
  {
   "cell_type": "code",
   "execution_count": 31,
   "metadata": {},
   "outputs": [
    {
     "name": "stdout",
     "output_type": "stream",
     "text": [
      "6736/6736 [==============================] - 0s 62us/step\n"
     ]
    },
    {
     "data": {
      "text/plain": [
       "[0.016585523360895627, 0.99480403800475059]"
      ]
     },
     "execution_count": 31,
     "metadata": {},
     "output_type": "execute_result"
    }
   ],
   "source": [
    "cnn_model.evaluate(test_sequences_matrix,y_test_cnn)"
   ]
  },
  {
   "cell_type": "markdown",
   "metadata": {},
   "source": [
    "### 3.3 ROC"
   ]
  },
  {
   "cell_type": "code",
   "execution_count": 32,
   "metadata": {
    "collapsed": true
   },
   "outputs": [],
   "source": [
    "\n",
    "from sklearn.metrics import roc_curve\n",
    "y_pred_rnn = rnn_model.predict(test_sequences_matrix).ravel()\n",
    "fpr_rnn, tpr_rnn, thresholds_rnn = roc_curve(y_test, y_pred_rnn)\n"
   ]
  },
  {
   "cell_type": "code",
   "execution_count": 33,
   "metadata": {
    "collapsed": true
   },
   "outputs": [],
   "source": [
    "\n",
    "y_pred_cnn = cnn_model.predict(test_sequences_matrix).ravel()\n",
    "y_test_cnn = np.array(y_test_cnn).flatten()\n",
    "fpr_cnn, tpr_cnn, thresholds_cnn = roc_curve(y_test_cnn, y_pred_cnn)\n",
    "\n",
    "\n"
   ]
  },
  {
   "cell_type": "code",
   "execution_count": 34,
   "metadata": {
    "collapsed": true
   },
   "outputs": [],
   "source": [
    "from sklearn.metrics import auc\n",
    "auc_cnn = auc(fpr_cnn, tpr_cnn)\n",
    "auc_rnn = auc(fpr_rnn, tpr_rnn)"
   ]
  },
  {
   "cell_type": "code",
   "execution_count": 35,
   "metadata": {},
   "outputs": [
    {
     "data": {
      "image/png": "[encoded data removed]",
      "text/plain": [
       "<matplotlib.figure.Figure at 0x13192195b38>"
      ]
     },
     "metadata": {},
     "output_type": "display_data"
    }
   ],
   "source": [
    "plt.figure(1)\n",
    "plt.plot([0, 1], [0, 1], 'k--')\n",
    "plt.plot(fpr_rnn, tpr_rnn, label='RNN (area = {:.3f})'.format(auc_rnn))\n",
    "plt.plot(fpr_cnn, tpr_cnn, label='CNN (area = {:.3f})'.format(auc_cnn))\n",
    "plt.xlabel('False positive rate')\n",
    "plt.ylabel('True positive rate')\n",
    "plt.title('ROC curve')\n",
    "plt.legend(loc='best')\n",
    "plt.show()"
   ]
  },
  {
   "cell_type": "code",
   "execution_count": 36,
   "metadata": {},
   "outputs": [
    {
     "data": {
      "image/png": "[encoded data removed]",
      "text/plain": [
       "<matplotlib.figure.Figure at 0x131921c52e8>"
      ]
     },
     "metadata": {},
     "output_type": "display_data"
    }
   ],
   "source": [
    "plt.figure(2)\n",
    "plt.xlim(0, 0.2)\n",
    "plt.ylim(0.8, 1)\n",
    "plt.plot([0, 1], [0, 1], 'k--')\n",
    "plt.plot(fpr_rnn, tpr_rnn, label='RNN (area = {:.3f})'.format(auc_rnn))\n",
    "plt.plot(fpr_cnn, tpr_cnn, label='CNN (area = {:.3f})'.format(auc_cnn))\n",
    "plt.xlabel('False positive rate')\n",
    "plt.ylabel('True positive rate')\n",
    "plt.title('ROC curve')\n",
    "plt.legend(loc='best')\n",
    "plt.show()"
   ]
  }
 ],
 "metadata": {
  "kernelspec": {
   "display_name": "Python 3",
   "language": "python",
   "name": "python3"
  },
  "language_info": {
   "codemirror_mode": {
    "name": "ipython",
    "version": 3
   },
   "file_extension": ".py",
   "mimetype": "text/x-python",
   "name": "python",
   "nbconvert_exporter": "python",
   "pygments_lexer": "ipython3",
   "version": "3.6.6"
  }
 },
 "nbformat": 4,
 "nbformat_minor": 2
}
