{
 "cells": [
  {
   "cell_type": "markdown",
   "metadata": {},
   "source": [
    "# ANLY-590 Assignment 2\n",
    "## Hanlong Peng"
   ]
  },
  {
   "cell_type": "markdown",
   "metadata": {},
   "source": [
    "## 1. Autoencoder"
   ]
  },
  {
   "cell_type": "code",
   "execution_count": 1,
   "metadata": {},
   "outputs": [
    {
     "name": "stderr",
     "output_type": "stream",
     "text": [
      "C:\\anaconda3\\lib\\site-packages\\h5py\\__init__.py:72: UserWarning: h5py is running against HDF5 1.10.2 when it was built against 1.10.3, this may cause problems\n",
      "  '{0}.{1}.{2}'.format(*version.hdf5_built_version_tuple)\n",
      "Using TensorFlow backend.\n"
     ]
    }
   ],
   "source": [
    "from keras.layers import Input, Dense, Conv2D, MaxPooling2D, UpSampling2D\n",
    "from keras.models import Model\n",
    "from keras import backend as K\n",
    "from keras.datasets import mnist\n",
    "import numpy as np\n",
    "import matplotlib.pyplot as plt"
   ]
  },
  {
   "cell_type": "code",
   "execution_count": 2,
   "metadata": {
    "collapsed": true
   },
   "outputs": [],
   "source": [
    "input_img = Input(shape=(28, 28, 1))\n",
    "\n",
    "x = Conv2D(16, (3, 3), activation='relu', padding='same')(input_img)\n",
    "x = MaxPooling2D((2, 2), padding='same')(x)\n",
    "x = Conv2D(16, (3, 3), activation='relu', padding='same')(x)\n",
    "x = MaxPooling2D((2, 2), padding='same')(x)\n",
    "x = Conv2D(32, (3, 3), activation='relu', padding='same')(x)\n",
    "encoded = MaxPooling2D((2, 2), padding='same')(x)\n",
    "\n",
    "\n",
    "x = Conv2D(32, (3, 3), activation='relu', padding='same')(encoded)\n",
    "x = UpSampling2D((2, 2))(x)\n",
    "x = Conv2D(16, (3, 3), activation='relu', padding='same')(x)\n",
    "x = UpSampling2D((2, 2))(x)\n",
    "x = Conv2D(16, (3, 3), activation='relu')(x)\n",
    "x = UpSampling2D((2, 2))(x)\n",
    "decoded = Conv2D(1, (3, 3), activation='sigmoid', padding='same')(x)\n",
    "\n",
    "autoencoder = Model(input_img, decoded)\n",
    "autoencoder.compile(optimizer='adadelta', loss='binary_crossentropy')"
   ]
  },
  {
   "cell_type": "code",
   "execution_count": 3,
   "metadata": {},
   "outputs": [],
   "source": [
    "(x_train, _), (x_test, _) = mnist.load_data()\n",
    "\n",
    "x_train = x_train.astype('float32') / 255.\n",
    "x_test = x_test.astype('float32') / 255.\n",
    "x_train = np.reshape(x_train, (len(x_train), 28, 28, 1)) \n",
    "x_test = np.reshape(x_test, (len(x_test), 28, 28, 1))  "
   ]
  },
  {
   "cell_type": "code",
   "execution_count": 4,
   "metadata": {},
   "outputs": [
    {
     "name": "stdout",
     "output_type": "stream",
     "text": [
      "Train on 60000 samples, validate on 10000 samples\n",
      "Epoch 1/50\n",
      "60000/60000 [==============================] - 4s 69us/step - loss: 0.1824 - val_loss: 0.1347\n",
      "Epoch 2/50\n",
      "60000/60000 [==============================] - 3s 53us/step - loss: 0.1258 - val_loss: 0.1116\n",
      "Epoch 3/50\n",
      "60000/60000 [==============================] - 3s 54us/step - loss: 0.1134 - val_loss: 0.1095\n",
      "Epoch 4/50\n",
      "60000/60000 [==============================] - 3s 53us/step - loss: 0.1068 - val_loss: 0.1038\n",
      "Epoch 5/50\n",
      "60000/60000 [==============================] - 3s 54us/step - loss: 0.1024 - val_loss: 0.0973\n",
      "Epoch 6/50\n",
      "60000/60000 [==============================] - 3s 54us/step - loss: 0.0994 - val_loss: 0.0946\n",
      "Epoch 7/50\n",
      "60000/60000 [==============================] - 3s 54us/step - loss: 0.0968 - val_loss: 0.0922\n",
      "Epoch 8/50\n",
      "60000/60000 [==============================] - 3s 54us/step - loss: 0.0947 - val_loss: 0.0929\n",
      "Epoch 9/50\n",
      "60000/60000 [==============================] - 3s 54us/step - loss: 0.0930 - val_loss: 0.0902\n",
      "Epoch 10/50\n",
      "60000/60000 [==============================] - 3s 53us/step - loss: 0.0917 - val_loss: 0.0890\n",
      "Epoch 11/50\n",
      "60000/60000 [==============================] - 3s 54us/step - loss: 0.0907 - val_loss: 0.0882\n",
      "Epoch 12/50\n",
      "60000/60000 [==============================] - 3s 54us/step - loss: 0.0896 - val_loss: 0.0881\n",
      "Epoch 13/50\n",
      "60000/60000 [==============================] - 3s 54us/step - loss: 0.0888 - val_loss: 0.0864\n",
      "Epoch 14/50\n",
      "60000/60000 [==============================] - 3s 54us/step - loss: 0.0880 - val_loss: 0.0863\n",
      "Epoch 15/50\n",
      "60000/60000 [==============================] - 3s 54us/step - loss: 0.0874 - val_loss: 0.0871\n",
      "Epoch 16/50\n",
      "60000/60000 [==============================] - 3s 54us/step - loss: 0.0868 - val_loss: 0.0878\n",
      "Epoch 17/50\n",
      "60000/60000 [==============================] - 3s 54us/step - loss: 0.0863 - val_loss: 0.0842\n",
      "Epoch 18/50\n",
      "60000/60000 [==============================] - 3s 53us/step - loss: 0.0858 - val_loss: 0.0839\n",
      "Epoch 19/50\n",
      "60000/60000 [==============================] - 3s 53us/step - loss: 0.0853 - val_loss: 0.0844\n",
      "Epoch 20/50\n",
      "60000/60000 [==============================] - 3s 54us/step - loss: 0.0850 - val_loss: 0.0844\n",
      "Epoch 21/50\n",
      "60000/60000 [==============================] - 3s 54us/step - loss: 0.0847 - val_loss: 0.0849\n",
      "Epoch 22/50\n",
      "60000/60000 [==============================] - 3s 56us/step - loss: 0.0842 - val_loss: 0.0850\n",
      "Epoch 23/50\n",
      "60000/60000 [==============================] - 3s 57us/step - loss: 0.0840 - val_loss: 0.0845\n",
      "Epoch 24/50\n",
      "60000/60000 [==============================] - 3s 54us/step - loss: 0.0836 - val_loss: 0.0831\n",
      "Epoch 25/50\n",
      "60000/60000 [==============================] - 3s 54us/step - loss: 0.0832 - val_loss: 0.0831\n",
      "Epoch 26/50\n",
      "60000/60000 [==============================] - 3s 54us/step - loss: 0.0831 - val_loss: 0.0826\n",
      "Epoch 27/50\n",
      "60000/60000 [==============================] - 3s 54us/step - loss: 0.0828 - val_loss: 0.0813\n",
      "Epoch 28/50\n",
      "60000/60000 [==============================] - 3s 55us/step - loss: 0.0825 - val_loss: 0.0814\n",
      "Epoch 29/50\n",
      "60000/60000 [==============================] - 3s 58us/step - loss: 0.0821 - val_loss: 0.0794\n",
      "Epoch 30/50\n",
      "60000/60000 [==============================] - 3s 56us/step - loss: 0.0820 - val_loss: 0.0805\n",
      "Epoch 31/50\n",
      "60000/60000 [==============================] - 3s 58us/step - loss: 0.0818 - val_loss: 0.0820\n",
      "Epoch 32/50\n",
      "60000/60000 [==============================] - 3s 55us/step - loss: 0.0816 - val_loss: 0.0809\n",
      "Epoch 33/50\n",
      "60000/60000 [==============================] - 3s 56us/step - loss: 0.0814 - val_loss: 0.0799\n",
      "Epoch 34/50\n",
      "60000/60000 [==============================] - 3s 55us/step - loss: 0.0812 - val_loss: 0.0805\n",
      "Epoch 35/50\n",
      "60000/60000 [==============================] - 3s 55us/step - loss: 0.0812 - val_loss: 0.0817\n",
      "Epoch 36/50\n",
      "60000/60000 [==============================] - 3s 55us/step - loss: 0.0810 - val_loss: 0.0818\n",
      "Epoch 37/50\n",
      "60000/60000 [==============================] - 3s 54us/step - loss: 0.0808 - val_loss: 0.0801\n",
      "Epoch 38/50\n",
      "60000/60000 [==============================] - 3s 54us/step - loss: 0.0807 - val_loss: 0.0799\n",
      "Epoch 39/50\n",
      "60000/60000 [==============================] - 3s 55us/step - loss: 0.0804 - val_loss: 0.0795\n",
      "Epoch 40/50\n",
      "60000/60000 [==============================] - 3s 55us/step - loss: 0.0803 - val_loss: 0.0805\n",
      "Epoch 41/50\n",
      "60000/60000 [==============================] - 3s 55us/step - loss: 0.0802 - val_loss: 0.0788\n",
      "Epoch 42/50\n",
      "60000/60000 [==============================] - 3s 55us/step - loss: 0.0800 - val_loss: 0.0808\n",
      "Epoch 43/50\n",
      "60000/60000 [==============================] - 3s 55us/step - loss: 0.0800 - val_loss: 0.0789\n",
      "Epoch 44/50\n",
      "60000/60000 [==============================] - 3s 55us/step - loss: 0.0798 - val_loss: 0.0780\n",
      "Epoch 45/50\n",
      "60000/60000 [==============================] - 3s 55us/step - loss: 0.0797 - val_loss: 0.0781\n",
      "Epoch 46/50\n",
      "60000/60000 [==============================] - 3s 55us/step - loss: 0.0795 - val_loss: 0.0799\n",
      "Epoch 47/50\n",
      "60000/60000 [==============================] - 3s 55us/step - loss: 0.0795 - val_loss: 0.0786\n",
      "Epoch 48/50\n",
      "60000/60000 [==============================] - 3s 54us/step - loss: 0.0794 - val_loss: 0.0779\n",
      "Epoch 49/50\n",
      "60000/60000 [==============================] - 3s 54us/step - loss: 0.0792 - val_loss: 0.0780\n",
      "Epoch 50/50\n",
      "60000/60000 [==============================] - 3s 54us/step - loss: 0.0789 - val_loss: 0.0785\n"
     ]
    },
    {
     "data": {
      "text/plain": [
       "<keras.callbacks.History at 0x23ce1c5c7f0>"
      ]
     },
     "execution_count": 4,
     "metadata": {},
     "output_type": "execute_result"
    }
   ],
   "source": [
    "from keras.callbacks import TensorBoard\n",
    "\n",
    "autoencoder.fit(x_train, x_train,\n",
    "                epochs=50,\n",
    "                batch_size=128,\n",
    "                shuffle=True,\n",
    "                validation_data=(x_test, x_test),\n",
    "                callbacks=[TensorBoard(log_dir='/tmp/autoencoder')])"
   ]
  },
  {
   "cell_type": "code",
   "execution_count": 5,
   "metadata": {},
   "outputs": [
    {
     "data": {
      "image/png": "[encoded data removed]",
      "text/plain": [
       "<matplotlib.figure.Figure at 0x23cdc664b38>"
      ]
     },
     "metadata": {},
     "output_type": "display_data"
    }
   ],
   "source": [
    "decoded_imgs = autoencoder.predict(x_test)\n",
    "\n",
    "n = 10\n",
    "plt.figure(figsize=(20, 4))\n",
    "for i in range(n):\n",
    "    # display original\n",
    "    ax = plt.subplot(2, n, i+1)\n",
    "    plt.imshow(x_test[i].reshape(28, 28))\n",
    "    plt.gray()\n",
    "    ax.get_xaxis().set_visible(False)\n",
    "    ax.get_yaxis().set_visible(False)\n",
    "\n",
    "    # display reconstruction\n",
    "    ax = plt.subplot(2, n, i + n + 1 )\n",
    "    plt.imshow(decoded_imgs[i].reshape(28, 28))\n",
    "    plt.gray()\n",
    "    ax.get_xaxis().set_visible(False)\n",
    "    ax.get_yaxis().set_visible(False)\n",
    "plt.show()"
   ]
  },
  {
   "cell_type": "markdown",
   "metadata": {},
   "source": [
    "## 2. Image Classification"
   ]
  },
  {
   "cell_type": "markdown",
   "metadata": {},
   "source": [
    "### 2.1 Deep CNN"
   ]
  },
  {
   "cell_type": "code",
   "execution_count": 6,
   "metadata": {},
   "outputs": [],
   "source": [
    "import tensorflow as tf\n",
    "(x_train, y_train), (x_test, y_test) = tf.keras.datasets.mnist.load_data()"
   ]
  },
  {
   "cell_type": "code",
   "execution_count": 7,
   "metadata": {},
   "outputs": [
    {
     "name": "stdout",
     "output_type": "stream",
     "text": [
      "x_train shape: (60000, 28, 28, 1)\n",
      "Number of images in x_train 60000\n",
      "Number of images in x_test 10000\n"
     ]
    }
   ],
   "source": [
    "# Reshaping the array to 4-dims so that it can work with the Keras API\n",
    "x_train = x_train.reshape(x_train.shape[0], 28, 28, 1)\n",
    "x_test = x_test.reshape(x_test.shape[0], 28, 28, 1)\n",
    "input_shape = (28, 28, 1)\n",
    "# Making sure that the values are float so that we can get decimal points after division\n",
    "x_train = x_train.astype('float32')\n",
    "x_test = x_test.astype('float32')\n",
    "# Normalizing the RGB codes by dividing it to the max RGB value.\n",
    "x_train /= 255\n",
    "x_test /= 255\n",
    "print('x_train shape:', x_train.shape)\n",
    "print('Number of images in x_train', x_train.shape[0])\n",
    "print('Number of images in x_test', x_test.shape[0])"
   ]
  },
  {
   "cell_type": "code",
   "execution_count": 8,
   "metadata": {},
   "outputs": [],
   "source": [
    "# Importing the required Keras modules containing model and layers\n",
    "from keras.models import Sequential\n",
    "from keras.layers import Dense, Conv2D, Dropout, Flatten, MaxPooling2D\n",
    "# Creating a Sequential Model and adding the layers\n",
    "model = Sequential()\n",
    "#1st Conv layer\n",
    "model.add(Conv2D(28, kernel_size=(3,3), input_shape=input_shape))\n",
    "#1st Pooling layer\n",
    "model.add(MaxPooling2D(pool_size=(2, 2)))\n",
    "#2nd Conv layer\n",
    "model.add(Conv2D(56, kernel_size=(5,5), input_shape=input_shape))\n",
    "#2nd Pooling layer\n",
    "model.add(MaxPooling2D(pool_size=(2, 2)))\n",
    "model.add(Flatten()) # Flattening the 2D arrays for fully connected layers\n",
    "model.add(Dense(128, activation=tf.nn.relu))\n",
    "model.add(Dropout(0.2))\n",
    "model.add(Dense(10,activation=tf.nn.softmax))"
   ]
  },
  {
   "cell_type": "code",
   "execution_count": 9,
   "metadata": {},
   "outputs": [
    {
     "name": "stdout",
     "output_type": "stream",
     "text": [
      "_________________________________________________________________\n",
      "Layer (type)                 Output Shape              Param #   \n",
      "=================================================================\n",
      "conv2d_8 (Conv2D)            (None, 26, 26, 28)        280       \n",
      "_________________________________________________________________\n",
      "max_pooling2d_4 (MaxPooling2 (None, 13, 13, 28)        0         \n",
      "_________________________________________________________________\n",
      "conv2d_9 (Conv2D)            (None, 9, 9, 56)          39256     \n",
      "_________________________________________________________________\n",
      "max_pooling2d_5 (MaxPooling2 (None, 4, 4, 56)          0         \n",
      "_________________________________________________________________\n",
      "flatten_1 (Flatten)          (None, 896)               0         \n",
      "_________________________________________________________________\n",
      "dense_1 (Dense)              (None, 128)               114816    \n",
      "_________________________________________________________________\n",
      "dropout_1 (Dropout)          (None, 128)               0         \n",
      "_________________________________________________________________\n",
      "dense_2 (Dense)              (None, 10)                1290      \n",
      "=================================================================\n",
      "Total params: 155,642\n",
      "Trainable params: 155,642\n",
      "Non-trainable params: 0\n",
      "_________________________________________________________________\n",
      "None\n"
     ]
    }
   ],
   "source": [
    "print(model.summary())"
   ]
  },
  {
   "cell_type": "code",
   "execution_count": 10,
   "metadata": {},
   "outputs": [
    {
     "name": "stdout",
     "output_type": "stream",
     "text": [
      "Epoch 1/10\n",
      "60000/60000 [==============================] - 6s 106us/step - loss: 0.1604 - acc: 0.9499\n",
      "Epoch 2/10\n",
      "60000/60000 [==============================] - 6s 98us/step - loss: 0.0595 - acc: 0.9810\n",
      "Epoch 3/10\n",
      "60000/60000 [==============================] - 6s 98us/step - loss: 0.0425 - acc: 0.9862\n",
      "Epoch 4/10\n",
      "60000/60000 [==============================] - 6s 98us/step - loss: 0.0369 - acc: 0.9884\n",
      "Epoch 5/10\n",
      "60000/60000 [==============================] - 6s 98us/step - loss: 0.0308 - acc: 0.9905\n",
      "Epoch 6/10\n",
      "60000/60000 [==============================] - 6s 100us/step - loss: 0.0272 - acc: 0.9909\n",
      "Epoch 7/10\n",
      "60000/60000 [==============================] - 6s 99us/step - loss: 0.0237 - acc: 0.9926\n",
      "Epoch 8/10\n",
      "60000/60000 [==============================] - 6s 97us/step - loss: 0.0221 - acc: 0.9930\n",
      "Epoch 9/10\n",
      "60000/60000 [==============================] - 6s 101us/step - loss: 0.0181 - acc: 0.9941\n",
      "Epoch 10/10\n",
      "60000/60000 [==============================] - 6s 99us/step - loss: 0.0194 - acc: 0.9940\n"
     ]
    },
    {
     "data": {
      "text/plain": [
       "<keras.callbacks.History at 0x23e6584e390>"
      ]
     },
     "execution_count": 10,
     "metadata": {},
     "output_type": "execute_result"
    }
   ],
   "source": [
    "model.compile(optimizer='adam', \n",
    "              loss='sparse_categorical_crossentropy', \n",
    "              metrics=['accuracy'])\n",
    "model.fit(x=x_train,y=y_train, epochs=10)"
   ]
  },
  {
   "cell_type": "code",
   "execution_count": 11,
   "metadata": {},
   "outputs": [
    {
     "name": "stdout",
     "output_type": "stream",
     "text": [
      "10000/10000 [==============================] - 0s 47us/step\n"
     ]
    },
    {
     "data": {
      "text/plain": [
       "[0.044158955885178874, 0.98999999999999999]"
      ]
     },
     "execution_count": 11,
     "metadata": {},
     "output_type": "execute_result"
    }
   ],
   "source": [
    "model.evaluate(x_test, y_test)"
   ]
  },
  {
   "cell_type": "code",
   "execution_count": 12,
   "metadata": {},
   "outputs": [
    {
     "data": {
      "image/png": "[encoded data removed]",
      "text/plain": [
       "<matplotlib.figure.Figure at 0x23cd1c4e0b8>"
      ]
     },
     "metadata": {},
     "output_type": "display_data"
    }
   ],
   "source": [
    "image_index = 441\n",
    "plt.imshow(x_test[image_index].reshape(28, 28),cmap='Greys')\n",
    "plt.show()"
   ]
  },
  {
   "cell_type": "code",
   "execution_count": 13,
   "metadata": {},
   "outputs": [
    {
     "name": "stdout",
     "output_type": "stream",
     "text": [
      "0\n"
     ]
    }
   ],
   "source": [
    "pred = model.predict(x_test[image_index].reshape(1, 28, 28, 1))\n",
    "print(pred.argmax())"
   ]
  },
  {
   "cell_type": "code",
   "execution_count": 14,
   "metadata": {},
   "outputs": [
    {
     "data": {
      "image/png": "[encoded data removed]",
      "text/plain": [
       "<matplotlib.figure.Figure at 0x23e64f9e978>"
      ]
     },
     "metadata": {},
     "output_type": "display_data"
    }
   ],
   "source": [
    "image_index = 2134\n",
    "plt.imshow(x_test[image_index].reshape(28, 28),cmap='Greys')\n",
    "plt.show()"
   ]
  },
  {
   "cell_type": "code",
   "execution_count": 15,
   "metadata": {},
   "outputs": [
    {
     "name": "stdout",
     "output_type": "stream",
     "text": [
      "5\n"
     ]
    }
   ],
   "source": [
    "pred = model.predict(x_test[image_index].reshape(1, 28, 28, 1))\n",
    "print(pred.argmax())"
   ]
  },
  {
   "cell_type": "code",
   "execution_count": 16,
   "metadata": {},
   "outputs": [
    {
     "data": {
      "image/png": "[encoded data removed]",
      "text/plain": [
       "<matplotlib.figure.Figure at 0x23ce1c1ceb8>"
      ]
     },
     "metadata": {},
     "output_type": "display_data"
    }
   ],
   "source": [
    "image_index = 7563\n",
    "plt.imshow(x_test[image_index].reshape(28, 28),cmap='Greys')\n",
    "plt.show()"
   ]
  },
  {
   "cell_type": "code",
   "execution_count": 17,
   "metadata": {},
   "outputs": [
    {
     "name": "stdout",
     "output_type": "stream",
     "text": [
      "1\n"
     ]
    }
   ],
   "source": [
    "pred = model.predict(x_test[image_index].reshape(1, 28, 28, 1))\n",
    "print(pred.argmax())"
   ]
  },
  {
   "cell_type": "markdown",
   "metadata": {},
   "source": [
    "I used 2 convolution layers, 2 pooling layers in the model with different paramters(kernel size and filter size).\n",
    "The accuracy for our model is 0.9899, and it looks pretty good with couple examples we randomly select."
   ]
  },
  {
   "cell_type": "markdown",
   "metadata": {},
   "source": [
    "### 2.2 Transfer Learning"
   ]
  },
  {
   "cell_type": "code",
   "execution_count": 18,
   "metadata": {},
   "outputs": [
    {
     "name": "stdout",
     "output_type": "stream",
     "text": [
      "_________________________________________________________________\n",
      "Layer (type)                 Output Shape              Param #   \n",
      "=================================================================\n",
      "image_input (InputLayer)     (None, 32, 32, 3)         0         \n",
      "_________________________________________________________________\n",
      "vgg16 (Model)                multiple                  14714688  \n",
      "_________________________________________________________________\n",
      "flatten (Flatten)            (None, 512)               0         \n",
      "_________________________________________________________________\n",
      "fc1 (Dense)                  (None, 256)               131328    \n",
      "_________________________________________________________________\n",
      "predictions (Dense)          (None, 10)                2570      \n",
      "=================================================================\n",
      "Total params: 14,848,586\n",
      "Trainable params: 133,898\n",
      "Non-trainable params: 14,714,688\n",
      "_________________________________________________________________\n"
     ]
    }
   ],
   "source": [
    "import sys\n",
    "import numpy as np\n",
    "import cv2\n",
    "import sklearn.metrics as sklm\n",
    "\n",
    "from keras.applications.vgg16 import VGG16\n",
    "from keras.preprocessing import image\n",
    "from keras.applications.vgg16 import preprocess_input\n",
    "from keras.layers import Input, Flatten, Dense\n",
    "from keras.models import Model, load_model\n",
    "from keras.datasets import mnist\n",
    "\n",
    "from keras import backend as K\n",
    "img_dim_ordering = 'tf'\n",
    "K.set_image_dim_ordering(img_dim_ordering)\n",
    "\n",
    "# the model\n",
    "def pretrained_model(img_shape, num_classes):\n",
    "    model_vgg16_conv = VGG16(weights='imagenet', include_top=False)\n",
    "    # Make vgg16 model layers as non trainable\n",
    "    for layer in model_vgg16_conv.layers:\n",
    "        layer.trainable = False\n",
    "\n",
    "    #Create your own input format\n",
    "    keras_input = Input(shape=img_shape, name = 'image_input')\n",
    "    \n",
    "    #Use the generated model \n",
    "    output_vgg16_conv = model_vgg16_conv(keras_input)\n",
    "    \n",
    "    #Add the fully-connected layers \n",
    "    x = Flatten(name='flatten')(output_vgg16_conv)\n",
    "    x = Dense(256, activation='relu', name='fc1')(x)\n",
    "    x = Dense(10, activation='softmax', name='predictions')(x)\n",
    "    \n",
    "    #Create your own model \n",
    "    pretrained_model = Model(inputs=keras_input, outputs=x)\n",
    "    pretrained_model.compile(loss='sparse_categorical_crossentropy', optimizer='adam', metrics=['accuracy'])\n",
    "    \n",
    "    return pretrained_model\n",
    "\n",
    "# loading the data\n",
    "(x_train, y_train), (x_test, y_test) = mnist.load_data()\n",
    "\n",
    "# converting it to RGB\n",
    "x_train = [cv2.cvtColor(cv2.resize(i, (32,32)), cv2.COLOR_GRAY2BGR) for i in x_train]\n",
    "x_train = np.concatenate([arr[np.newaxis] for arr in x_train]).astype('float32')\n",
    "\n",
    "x_test = [cv2.cvtColor(cv2.resize(i, (32,32)), cv2.COLOR_GRAY2BGR) for i in x_test]\n",
    "x_test = np.concatenate([arr[np.newaxis] for arr in x_test]).astype('float32')\n",
    "\n",
    "# training the model\n",
    "model = pretrained_model(x_train.shape[1:], len(set(y_train)))\n",
    "model.summary()"
   ]
  },
  {
   "cell_type": "code",
   "execution_count": 19,
   "metadata": {},
   "outputs": [
    {
     "name": "stdout",
     "output_type": "stream",
     "text": [
      "Epoch 1/10\n",
      "60000/60000 [==============================] - 18s 293us/step - loss: 0.7082 - acc: 0.8789\n",
      "Epoch 2/10\n",
      "60000/60000 [==============================] - 17s 284us/step - loss: 0.1835 - acc: 0.9417\n",
      "Epoch 3/10\n",
      "60000/60000 [==============================] - 17s 285us/step - loss: 0.1539 - acc: 0.9507\n",
      "Epoch 4/10\n",
      "60000/60000 [==============================] - 17s 285us/step - loss: 0.1352 - acc: 0.9558\n",
      "Epoch 5/10\n",
      "60000/60000 [==============================] - 17s 285us/step - loss: 0.1257 - acc: 0.9588\n",
      "Epoch 6/10\n",
      "60000/60000 [==============================] - 17s 287us/step - loss: 0.1132 - acc: 0.9632\n",
      "Epoch 7/10\n",
      "60000/60000 [==============================] - 17s 289us/step - loss: 0.1056 - acc: 0.9659\n",
      "Epoch 8/10\n",
      "60000/60000 [==============================] - 18s 293us/step - loss: 0.0967 - acc: 0.9681\n",
      "Epoch 9/10\n",
      "60000/60000 [==============================] - 18s 295us/step - loss: 0.0920 - acc: 0.9696\n",
      "Epoch 10/10\n",
      "60000/60000 [==============================] - 17s 292us/step - loss: 0.0849 - acc: 0.9713\n"
     ]
    },
    {
     "data": {
      "text/plain": [
       "<keras.callbacks.History at 0x23cf77abcf8>"
      ]
     },
     "execution_count": 19,
     "metadata": {},
     "output_type": "execute_result"
    }
   ],
   "source": [
    "model.fit(x=x_train,y=y_train, epochs=10)"
   ]
  },
  {
   "cell_type": "code",
   "execution_count": 20,
   "metadata": {},
   "outputs": [
    {
     "name": "stdout",
     "output_type": "stream",
     "text": [
      "10000/10000 [==============================] - 3s 272us/step\n"
     ]
    },
    {
     "data": {
      "text/plain": [
       "[0.17736918352073991, 0.95840000000000003]"
      ]
     },
     "execution_count": 20,
     "metadata": {},
     "output_type": "execute_result"
    }
   ],
   "source": [
    "model.evaluate(x_test, y_test)"
   ]
  },
  {
   "cell_type": "code",
   "execution_count": 21,
   "metadata": {},
   "outputs": [
    {
     "data": {
      "image/png": "[encoded data removed]",
      "text/plain": [
       "<matplotlib.figure.Figure at 0x23e7549ff60>"
      ]
     },
     "metadata": {},
     "output_type": "display_data"
    }
   ],
   "source": [
    "image_index = 1241\n",
    "plt.imshow(x_test[image_index],cmap='Greys')\n",
    "plt.show()"
   ]
  },
  {
   "cell_type": "code",
   "execution_count": 22,
   "metadata": {},
   "outputs": [
    {
     "name": "stdout",
     "output_type": "stream",
     "text": [
      "7\n"
     ]
    }
   ],
   "source": [
    "pred = model.predict(x_test[image_index].reshape(1, 32, 32, 3))\n",
    "print(pred.argmax())"
   ]
  },
  {
   "cell_type": "code",
   "execution_count": 23,
   "metadata": {},
   "outputs": [
    {
     "data": {
      "image/png": "[encoded data removed]",
      "text/plain": [
       "<matplotlib.figure.Figure at 0x23e754ed208>"
      ]
     },
     "metadata": {},
     "output_type": "display_data"
    }
   ],
   "source": [
    "image_index = 6313\n",
    "plt.imshow(x_test[image_index],cmap='Greys')\n",
    "plt.show()"
   ]
  },
  {
   "cell_type": "code",
   "execution_count": 24,
   "metadata": {},
   "outputs": [
    {
     "name": "stdout",
     "output_type": "stream",
     "text": [
      "4\n"
     ]
    }
   ],
   "source": [
    "pred = model.predict(x_test[image_index].reshape(1, 32, 32, 3))\n",
    "print(pred.argmax())"
   ]
  },
  {
   "cell_type": "markdown",
   "metadata": {},
   "source": [
    "Since the least dimension for vgg is 32*32, we have to convert the shape from 28*28 to 32*32. The accuracy doesn't change much in this case, but if we take the default dimension of vgg, which is 224*224, I think the accuracy would drop significantly due to noise caused by upsampling. \n",
    "Another interesting fact is that when we convert mnist to RGB, the pictures are different from the first part. This means that the red, green and blue channels are all the same and is the MNIST grayscale counterpart."
   ]
  },
  {
   "cell_type": "markdown",
   "metadata": {},
   "source": [
    "## 3. Text Classification"
   ]
  },
  {
   "cell_type": "code",
   "execution_count": 25,
   "metadata": {
    "collapsed": true
   },
   "outputs": [],
   "source": [
    "from keras.preprocessing import sequence\n",
    "from keras.layers import Dense, SimpleRNN, LSTM, Embedding, Dropout, Bidirectional, Activation, Flatten,GlobalMaxPooling1D\n",
    "from keras.models import Sequential\n",
    "import requests\n",
    "from sklearn.model_selection import train_test_split\n",
    "from keras.optimizers import RMSprop\n",
    "from keras.preprocessing.text import Tokenizer\n",
    "from keras.layers.convolutional import Conv1D, MaxPooling1D\n",
    "from keras.utils.np_utils import to_categorical"
   ]
  },
  {
   "cell_type": "code",
   "execution_count": 33,
   "metadata": {},
   "outputs": [],
   "source": [
    "#load and preprocess the data\n",
    "malicious = requests.get('https://s3.amazonaws.com/anly-590/url-classification/malicious-urls.txt').text.split('\\n')\n",
    "benign = requests.get('https://s3.amazonaws.com/anly-590/url-classification/benign-urls.txt').text.split('\\n')\n",
    "x = malicious + benign\n",
    "y = [0 for _ in range(len(benign))]+[1 for _ in range(len(malicious))]\n",
    "\n",
    "x_train,x_test,y_train,y_test = train_test_split(x,y,test_size=0.1)\n",
    "\n",
    "max_words = 1000\n",
    "max_len = 150\n",
    "tok = Tokenizer(num_words=max_words)\n",
    "tok.fit_on_texts(x_train)\n",
    "sequences = tok.texts_to_sequences(x_train)\n",
    "sequences_matrix = sequence.pad_sequences(sequences,maxlen=max_len)\n",
    "test_sequences = tok.texts_to_sequences(x_test)\n",
    "test_sequences_matrix = sequence.pad_sequences(test_sequences,maxlen=max_len)"
   ]
  },
  {
   "cell_type": "markdown",
   "metadata": {},
   "source": [
    "### 3.1 RNN"
   ]
  },
  {
   "cell_type": "code",
   "execution_count": 39,
   "metadata": {},
   "outputs": [],
   "source": [
    "rnn_model = Sequential()\n",
    "rnn_model.add(Embedding(1000, 64))\n",
    "rnn_model.add(SimpleRNN(32))\n",
    "rnn_model.add(Dense(1, activation='sigmoid'))"
   ]
  },
  {
   "cell_type": "code",
   "execution_count": 40,
   "metadata": {
    "collapsed": true
   },
   "outputs": [],
   "source": [
    "rnn_model.compile(optimizer=\"rmsprop\", loss=\"binary_crossentropy\", metrics=[\"acc\"])"
   ]
  },
  {
   "cell_type": "code",
   "execution_count": 76,
   "metadata": {},
   "outputs": [
    {
     "name": "stdout",
     "output_type": "stream",
     "text": [
      "Epoch 1/10\n",
      "60618/60618 [==============================] - 9s 148us/step - loss: 0.0149 - acc: 0.9952\n",
      "Epoch 2/10\n",
      "60618/60618 [==============================] - 9s 147us/step - loss: 0.0148 - acc: 0.9953\n",
      "Epoch 3/10\n",
      "60618/60618 [==============================] - 9s 146us/step - loss: 0.0146 - acc: 0.9954\n",
      "Epoch 4/10\n",
      "60618/60618 [==============================] - 9s 147us/step - loss: 0.0146 - acc: 0.9954\n",
      "Epoch 5/10\n",
      "60618/60618 [==============================] - 9s 148us/step - loss: 0.0147 - acc: 0.9953\n",
      "Epoch 6/10\n",
      "60618/60618 [==============================] - 9s 147us/step - loss: 0.0146 - acc: 0.9953\n",
      "Epoch 7/10\n",
      "60618/60618 [==============================] - 9s 147us/step - loss: 0.0145 - acc: 0.9953\n",
      "Epoch 8/10\n",
      "60618/60618 [==============================] - 9s 147us/step - loss: 0.0146 - acc: 0.9954\n",
      "Epoch 9/10\n",
      "60618/60618 [==============================] - 9s 147us/step - loss: 0.0145 - acc: 0.9954\n",
      "Epoch 10/10\n",
      "60618/60618 [==============================] - 9s 148us/step - loss: 0.0145 - acc: 0.9953\n"
     ]
    },
    {
     "data": {
      "text/plain": [
       "<keras.callbacks.History at 0x23ea03af390>"
      ]
     },
     "execution_count": 76,
     "metadata": {},
     "output_type": "execute_result"
    }
   ],
   "source": [
    "rnn_model.fit(sequences_matrix, y_train, epochs=10, batch_size=256)"
   ]
  },
  {
   "cell_type": "code",
   "execution_count": 77,
   "metadata": {},
   "outputs": [
    {
     "name": "stdout",
     "output_type": "stream",
     "text": [
      "6736/6736 [==============================] - 2s 276us/step\n"
     ]
    },
    {
     "data": {
      "text/plain": [
       "[0.018769834317098125, 0.99346793349168649]"
      ]
     },
     "execution_count": 77,
     "metadata": {},
     "output_type": "execute_result"
    }
   ],
   "source": [
    "rnn_model.evaluate(test_sequences_matrix,y_test)"
   ]
  },
  {
   "cell_type": "markdown",
   "metadata": {},
   "source": [
    "### 3.2 CNN"
   ]
  },
  {
   "cell_type": "code",
   "execution_count": 70,
   "metadata": {},
   "outputs": [
    {
     "name": "stdout",
     "output_type": "stream",
     "text": [
      "_________________________________________________________________\n",
      "Layer (type)                 Output Shape              Param #   \n",
      "=================================================================\n",
      "embedding_16 (Embedding)     (None, None, 64)          64000     \n",
      "_________________________________________________________________\n",
      "conv1d_13 (Conv1D)           (None, None, 64)          20544     \n",
      "_________________________________________________________________\n",
      "global_max_pooling1d_4 (Glob (None, 64)                0         \n",
      "_________________________________________________________________\n",
      "dropout_14 (Dropout)         (None, 64)                0         \n",
      "_________________________________________________________________\n",
      "dense_28 (Dense)             (None, 64)                4160      \n",
      "_________________________________________________________________\n",
      "dense_29 (Dense)             (None, 2)                 130       \n",
      "=================================================================\n",
      "Total params: 88,834\n",
      "Trainable params: 88,834\n",
      "Non-trainable params: 0\n",
      "_________________________________________________________________\n"
     ]
    }
   ],
   "source": [
    "y_train_cnn = to_categorical(y_train, num_classes = 2)\n",
    "y_test_cnn = to_categorical(y_test, num_classes = 2)\n",
    "\n",
    "  \n",
    "cnn_model = Sequential()\n",
    "cnn_model.add(Embedding(max_words, 64))\n",
    "cnn_model.add(Conv1D(64,5,activation='relu'))\n",
    "cnn_model.add(GlobalMaxPooling1D())\n",
    "cnn_model.add(Dropout(0.5))\n",
    "cnn_model.add(Dense(64,activation='relu'))\n",
    "cnn_model.add(Dense(2,activation='sigmoid'))\n",
    "cnn_model.summary()"
   ]
  },
  {
   "cell_type": "code",
   "execution_count": 78,
   "metadata": {},
   "outputs": [
    {
     "name": "stdout",
     "output_type": "stream",
     "text": [
      "Epoch 1/10\n",
      "60618/60618 [==============================] - 2s 36us/step - loss: 0.0143 - acc: 0.9953\n",
      "Epoch 2/10\n",
      "60618/60618 [==============================] - 2s 26us/step - loss: 0.0145 - acc: 0.9952\n",
      "Epoch 3/10\n",
      "60618/60618 [==============================] - 2s 26us/step - loss: 0.0139 - acc: 0.9954\n",
      "Epoch 4/10\n",
      "60618/60618 [==============================] - 2s 26us/step - loss: 0.0142 - acc: 0.9952\n",
      "Epoch 5/10\n",
      "60618/60618 [==============================] - 2s 26us/step - loss: 0.0140 - acc: 0.9954\n",
      "Epoch 6/10\n",
      "60618/60618 [==============================] - 2s 26us/step - loss: 0.0140 - acc: 0.9954\n",
      "Epoch 7/10\n",
      "60618/60618 [==============================] - 2s 26us/step - loss: 0.0141 - acc: 0.9952\n",
      "Epoch 8/10\n",
      "60618/60618 [==============================] - 2s 26us/step - loss: 0.0141 - acc: 0.9952\n",
      "Epoch 9/10\n",
      "60618/60618 [==============================] - 2s 26us/step - loss: 0.0141 - acc: 0.9952\n",
      "Epoch 10/10\n",
      "60618/60618 [==============================] - 2s 26us/step - loss: 0.0139 - acc: 0.9953\n"
     ]
    },
    {
     "data": {
      "text/plain": [
       "<keras.callbacks.History at 0x23ea2dee6a0>"
      ]
     },
     "execution_count": 78,
     "metadata": {},
     "output_type": "execute_result"
    }
   ],
   "source": [
    "cnn_model.compile(loss='binary_crossentropy',optimizer='adam',metrics=['acc'])\n",
    "\n",
    "cnn_model.fit(sequences_matrix, y_train_cnn, batch_size=256, epochs=10)"
   ]
  },
  {
   "cell_type": "code",
   "execution_count": 79,
   "metadata": {},
   "outputs": [
    {
     "name": "stdout",
     "output_type": "stream",
     "text": [
      "6736/6736 [==============================] - 0s 62us/step\n"
     ]
    },
    {
     "data": {
      "text/plain": [
       "[0.019088970860692254, 0.99346793349168649]"
      ]
     },
     "execution_count": 79,
     "metadata": {},
     "output_type": "execute_result"
    }
   ],
   "source": [
    "cnn_model.evaluate(test_sequences_matrix,y_test_cnn)"
   ]
  },
  {
   "cell_type": "markdown",
   "metadata": {},
   "source": [
    "### 3.3 ROC"
   ]
  },
  {
   "cell_type": "code",
   "execution_count": 104,
   "metadata": {},
   "outputs": [],
   "source": [
    "\n",
    "from sklearn.metrics import roc_curve\n",
    "y_pred_rnn = rnn_model.predict(test_sequences_matrix).ravel()\n",
    "fpr_rnn, tpr_rnn, thresholds_rnn = roc_curve(y_test, y_pred_rnn)\n"
   ]
  },
  {
   "cell_type": "code",
   "execution_count": 109,
   "metadata": {},
   "outputs": [],
   "source": [
    "\n",
    "y_pred_cnn = cnn_model.predict(test_sequences_matrix).ravel()\n",
    "y_test_cnn = np.array(y_test_cnn).flatten()\n",
    "fpr_cnn, tpr_cnn, thresholds_cnn = roc_curve(y_test_cnn, y_pred_cnn)\n",
    "\n",
    "\n"
   ]
  },
  {
   "cell_type": "code",
   "execution_count": 110,
   "metadata": {},
   "outputs": [],
   "source": [
    "from sklearn.metrics import auc\n",
    "auc_cnn = auc(fpr_cnn, tpr_cnn)\n",
    "auc_rnn = auc(fpr_rnn, tpr_rnn)"
   ]
  },
  {
   "cell_type": "code",
   "execution_count": 111,
   "metadata": {},
   "outputs": [
    {
     "data": {
      "image/png": "[encoded data removed]",
      "text/plain": [
       "<matplotlib.figure.Figure at 0x23e7a206710>"
      ]
     },
     "metadata": {},
     "output_type": "display_data"
    }
   ],
   "source": [
    "plt.figure(1)\n",
    "plt.plot([0, 1], [0, 1], 'k--')\n",
    "plt.plot(fpr_rnn, tpr_rnn, label='RNN (area = {:.3f})'.format(auc_rnn))\n",
    "plt.plot(fpr_cnn, tpr_cnn, label='CNN (area = {:.3f})'.format(auc_cnn))\n",
    "plt.xlabel('False positive rate')\n",
    "plt.ylabel('True positive rate')\n",
    "plt.title('ROC curve')\n",
    "plt.legend(loc='best')\n",
    "plt.show()"
   ]
  },
  {
   "cell_type": "code",
   "execution_count": 112,
   "metadata": {},
   "outputs": [
    {
     "data": {
      "image/png": "[encoded data removed]",
      "text/plain": [
       "<matplotlib.figure.Figure at 0x23ea3966780>"
      ]
     },
     "metadata": {},
     "output_type": "display_data"
    }
   ],
   "source": [
    "plt.figure(2)\n",
    "plt.xlim(0, 0.2)\n",
    "plt.ylim(0.8, 1)\n",
    "plt.plot([0, 1], [0, 1], 'k--')\n",
    "plt.plot(fpr_rnn, tpr_rnn, label='RNN (area = {:.3f})'.format(auc_rnn))\n",
    "plt.plot(fpr_cnn, tpr_cnn, label='CNN (area = {:.3f})'.format(auc_cnn))\n",
    "plt.xlabel('False positive rate')\n",
    "plt.ylabel('True positive rate')\n",
    "plt.title('ROC curve')\n",
    "plt.legend(loc='best')\n",
    "plt.show()"
   ]
  }
 ],
 "metadata": {
  "kernelspec": {
   "display_name": "Python 3",
   "language": "python",
   "name": "python3"
  },
  "language_info": {
   "codemirror_mode": {
    "name": "ipython",
    "version": 3
   },
   "file_extension": ".py",
   "mimetype": "text/x-python",
   "name": "python",
   "nbconvert_exporter": "python",
   "pygments_lexer": "ipython3",
   "version": "3.6.6"
  }
 },
 "nbformat": 4,
 "nbformat_minor": 2
}
